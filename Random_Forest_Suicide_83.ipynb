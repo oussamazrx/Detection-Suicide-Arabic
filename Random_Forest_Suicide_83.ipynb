{
  "cells": [
    {
      "cell_type": "code",
      "source": [
        "# Importing necessary packages\n",
        "import numpy as np\n",
        "import pandas as pd\n",
        "import seaborn as sns"
      ],
      "metadata": {
        "id": "LAdJkmEsHBh5"
      },
      "execution_count": null,
      "outputs": []
    },
    {
      "cell_type": "code",
      "source": [
        "df = pd.read_csv('/content/preprocessed_translated_samples.csv')\n"
      ],
      "metadata": {
        "id": "sHOWxqBHHCZm"
      },
      "execution_count": null,
      "outputs": []
    },
    {
      "cell_type": "code",
      "source": [
        "# Data preprocessing\n",
        "import nltk\n",
        "import re\n",
        "import string\n",
        "import time\n",
        "from nltk.tokenize import word_tokenize\n",
        "from nltk.corpus import stopwords\n",
        "from nltk.stem import ISRIStemmer"
      ],
      "metadata": {
        "id": "3WKnALEpHHgN"
      },
      "execution_count": null,
      "outputs": []
    },
    {
      "cell_type": "code",
      "source": [
        "# Downloading stopwords and initializing stemmer\n",
        "nltk.download('punkt')\n",
        "nltk.download('stopwords')\n",
        "stop_words = set(stopwords.words('arabic'))\n",
        "stemmer = ISRIStemmer()"
      ],
      "metadata": {
        "colab": {
          "base_uri": "https://localhost:8080/"
        },
        "id": "Z_lQF1g_HJPx",
        "outputId": "f64e7ae2-91be-4d7f-ab3f-1ec6f4e3f0ae"
      },
      "execution_count": null,
      "outputs": [
        {
          "output_type": "stream",
          "name": "stderr",
          "text": [
            "[nltk_data] Downloading package punkt to /root/nltk_data...\n",
            "[nltk_data]   Unzipping tokenizers/punkt.zip.\n",
            "[nltk_data] Downloading package stopwords to /root/nltk_data...\n",
            "[nltk_data]   Package stopwords is already up-to-date!\n"
          ]
        }
      ]
    },
    {
      "cell_type": "code",
      "source": [
        "# Preprocessing function for Arabic text\n",
        "def preprocessor(text):\n",
        "    # Removing non-alphabetic characters and digits\n",
        "    text = re.sub(r'[^ء-ي\\s]', '', text)\n",
        "    # Tokenization\n",
        "    tokens = word_tokenize(text)\n",
        "    # Removing stopwords and applying stemming\n",
        "    processed_text = [stemmer.stem(word) for word in tokens if word not in stop_words]\n",
        "    return ' '.join(processed_text)"
      ],
      "metadata": {
        "id": "0XzBTOipHKzd"
      },
      "execution_count": null,
      "outputs": []
    },
    {
      "cell_type": "code",
      "source": [
        "df.isnull().sum()"
      ],
      "metadata": {
        "colab": {
          "base_uri": "https://localhost:8080/"
        },
        "id": "X_Kos5fKHNwB",
        "outputId": "cedf21fb-12bb-411b-b8a7-897b4ad1d37c"
      },
      "execution_count": null,
      "outputs": [
        {
          "output_type": "execute_result",
          "data": {
            "text/plain": [
              "Translated_Tweet    0\n",
              "Suicide             0\n",
              "dtype: int64"
            ]
          },
          "metadata": {},
          "execution_count": 50
        }
      ]
    },
    {
      "cell_type": "code",
      "source": [
        "# Dropping rows with empty 'Translated_Tweet' or 'Suicide'\n",
        "df.dropna(subset=['Translated_Tweet', 'Suicide'], inplace=True)"
      ],
      "metadata": {
        "id": "iL683M75HTES"
      },
      "execution_count": null,
      "outputs": []
    },
    {
      "cell_type": "code",
      "source": [
        "df.isnull().sum()"
      ],
      "metadata": {
        "colab": {
          "base_uri": "https://localhost:8080/"
        },
        "id": "3rqF-xaSHVlY",
        "outputId": "ad9ff321-1c42-49b4-9a74-c5e56f77949a"
      },
      "execution_count": null,
      "outputs": [
        {
          "output_type": "execute_result",
          "data": {
            "text/plain": [
              "Translated_Tweet    0\n",
              "Suicide             0\n",
              "dtype: int64"
            ]
          },
          "metadata": {},
          "execution_count": 67
        }
      ]
    },
    {
      "cell_type": "code",
      "source": [
        "# Applying preprocessing to the 'Translated_Tweet' column\n",
        "df['Translated_Tweet'] = df['Translated_Tweet'].apply(preprocessor)"
      ],
      "metadata": {
        "id": "JM0qsdVbHaQU"
      },
      "execution_count": null,
      "outputs": []
    },
    {
      "cell_type": "code",
      "source": [
        "# Encoding labels using LabelEncoder\n",
        "from sklearn.preprocessing import LabelEncoder\n",
        "\n",
        "encoder = LabelEncoder()\n",
        "df['Suicide'] = encoder.fit_transform(df['Suicide'])"
      ],
      "metadata": {
        "id": "aPQrL4Y4H6a4"
      },
      "execution_count": null,
      "outputs": []
    },
    {
      "cell_type": "code",
      "source": [
        "# Addressing class imbalance using SMOTE (Synthetic Minority Over-sampling Technique)\n",
        "from imblearn.over_sampling import SMOTE\n",
        "\n",
        "# Splitting data into features and labels\n",
        "X = df['Translated_Tweet']\n",
        "y = df['Suicide']"
      ],
      "metadata": {
        "id": "kx8UwijRJ_iH"
      },
      "execution_count": null,
      "outputs": []
    },
    {
      "cell_type": "code",
      "source": [
        "# Splitting data into training and testing sets\n",
        "from sklearn.model_selection import train_test_split\n",
        "\n",
        "X_train, X_test, y_train, y_test = train_test_split(df['Translated_Tweet'], df['Suicide'], test_size=0.2, random_state=1)\n"
      ],
      "metadata": {
        "id": "fiszrJq2IOya"
      },
      "execution_count": null,
      "outputs": []
    },
    {
      "cell_type": "code",
      "source": [
        "# Vectorizing text using TF-IDF\n",
        "from sklearn.feature_extraction.text import TfidfVectorizer\n",
        "\n",
        "tfidf_vectorizer = TfidfVectorizer()\n",
        "X_train_tfidf = tfidf_vectorizer.fit_transform(X_train)\n",
        "X_test_tfidf = tfidf_vectorizer.transform(X_test)"
      ],
      "metadata": {
        "id": "j0lN1ivvIQ21"
      },
      "execution_count": null,
      "outputs": []
    },
    {
      "cell_type": "code",
      "source": [
        "# Apply SMOTE to training data\n",
        "smote = SMOTE(random_state=1)\n",
        "X_train_tfidf_smote, y_train_smote = smote.fit_resample(X_train_tfidf, y_train)"
      ],
      "metadata": {
        "id": "aQX3u0tQKJDG"
      },
      "execution_count": null,
      "outputs": []
    },
    {
      "cell_type": "code",
      "source": [
        "# Model Building\n",
        "from sklearn.ensemble import RandomForestClassifier\n",
        "from sklearn.metrics import accuracy_score, classification_report, confusion_matrix\n",
        "\n",
        "rf_classifier = RandomForestClassifier(class_weight='balanced', random_state=1)\n",
        "rf_classifier.fit(X_train_tfidf_smote, y_train_smote)\n",
        "y_pred = rf_classifier.predict(X_test_tfidf)"
      ],
      "metadata": {
        "id": "5j-vAtKIITBh"
      },
      "execution_count": null,
      "outputs": []
    },
    {
      "cell_type": "code",
      "source": [
        "# Evaluation\n",
        "accuracy = accuracy_score(y_test, y_pred)\n",
        "print(\"Accuracy:\", accuracy)\n",
        "print(\"Classification Report:\")\n",
        "print(classification_report(y_test, y_pred))\n",
        "print(\"Confusion Matrix:\")\n",
        "print(confusion_matrix(y_test, y_pred))"
      ],
      "metadata": {
        "colab": {
          "base_uri": "https://localhost:8080/"
        },
        "id": "JS4KxBHLIXQ5",
        "outputId": "3b7cb857-7d34-4326-8fdb-ebfef51aafaa"
      },
      "execution_count": null,
      "outputs": [
        {
          "output_type": "stream",
          "name": "stdout",
          "text": [
            "Accuracy: 0.8263305322128851\n",
            "Classification Report:\n",
            "              precision    recall  f1-score   support\n",
            "\n",
            "           0       0.81      0.94      0.87       225\n",
            "           1       0.86      0.64      0.73       132\n",
            "\n",
            "    accuracy                           0.83       357\n",
            "   macro avg       0.84      0.79      0.80       357\n",
            "weighted avg       0.83      0.83      0.82       357\n",
            "\n",
            "Confusion Matrix:\n",
            "[[211  14]\n",
            " [ 48  84]]\n"
          ]
        }
      ]
    },
    {
      "cell_type": "code",
      "source": [
        "# Function to evaluate a single input text\n",
        "def evaluate_input(text):\n",
        "    # Preprocess the input text\n",
        "    processed_text = preprocessor(text)\n",
        "    # Vectorize the input text\n",
        "    vectorized_text = tfidf_vectorizer.transform([processed_text])\n",
        "    # Predict the label\n",
        "    prediction = rf_classifier.predict(vectorized_text)\n",
        "    # Decode the label\n",
        "    decoded_prediction = encoder.inverse_transform(prediction)\n",
        "    return decoded_prediction[0]"
      ],
      "metadata": {
        "id": "Y1yWA7ZDIZki"
      },
      "execution_count": null,
      "outputs": []
    },
    {
      "cell_type": "code",
      "source": [
        "# Example usage of the evaluation function with multiple inputs\n",
        "texts = [\n",
        "    \"أشعر بالإحباط الشديد ولا أرى أي أمل في المستقبل\",\n",
        "    \"أنا سعيد جدا اليوم وأحب حياتي\",\n",
        "    \"لا أستطيع تحمل هذا الألم أكثر\"\n",
        "]\n",
        "\n",
        "for text in texts:\n",
        "    result = evaluate_input(text)\n",
        "    print(f\"Input text: {text}\\nPrediction: {result}\\n\")\n"
      ],
      "metadata": {
        "colab": {
          "base_uri": "https://localhost:8080/"
        },
        "id": "W82KUVHbI0_1",
        "outputId": "c1a028e4-5ba8-4d16-a390-f5004f070901"
      },
      "execution_count": null,
      "outputs": [
        {
          "output_type": "stream",
          "name": "stdout",
          "text": [
            "Input text: أشعر بالإحباط الشديد ولا أرى أي أمل في المستقبل\n",
            "Prediction: Potential Suicide post \n",
            "\n",
            "Input text: أنا سعيد جدا اليوم وأحب حياتي\n",
            "Prediction: Not Suicide post\n",
            "\n",
            "Input text: لا أستطيع تحمل هذا الألم أكثر\n",
            "Prediction: Potential Suicide post \n",
            "\n"
          ]
        }
      ]
    },
    {
      "cell_type": "code",
      "source": [
        "# Example usage of the evaluation function with multiple inputs\n",
        "texts = [\n",
        "    \"أشعر بالإحباط الشديد ولا أرى أي أمل في المستقبل\",  # Potential Suicide post\n",
        "    \"أنا سعيد جدا اليوم وأحب حياتي\",  # Not Suicide post\n",
        "    \"لا أستطيع تحمل هذا الألم أكثر\",  # Potential Suicide post\n",
        "    \"اليوم كان يوما جميلا وأستمتع به\",  # Not Suicide post\n",
        "    \"أفكر في إنهاء حياتي لأنني لا أستطيع المواصلة\",  # Potential Suicide post\n",
        "    \"استمتعت بلقاء أصدقائي والحديث معهم\",  # Not Suicide post\n",
        "    \"أنا مكتئب ولا أستطيع التحمل\",  # Potential Suicide post\n",
        "    \"أحب عائلتي وأصدقائي وهم يدعمونني دائما\",  # Not Suicide post\n",
        "    \"هذا الألم لا يطاق وأريد التخلص منه\",  # Potential Suicide post\n",
        "    \"لقد أنجزت الكثير من الأشياء الجيدة هذا الأسبوع\",  # Not Suicide post\n",
        "    \"لا أستطيع العثور على أي سبب للاستمرار\",  # Potential Suicide post\n",
        "    \"أخطط لعطلة رائعة مع عائلتي\",  # Not Suicide post\n",
        "    \"كل شيء يبدو مظلما ولا أستطيع رؤية النور في نهاية النفق\",  # Potential Suicide post\n",
        "    \"أنا ممتن لكل الأشياء الجيدة في حياتي\",  # Not Suicide post\n",
        "]\n",
        "\n",
        "for text in texts:\n",
        "    result = evaluate_input(text)\n",
        "    print(f\"Input text: {text}\\nPrediction: {result}\\n\")"
      ],
      "metadata": {
        "colab": {
          "base_uri": "https://localhost:8080/"
        },
        "id": "qRUC82j3I6fK",
        "outputId": "613ecce6-4066-4275-9ff2-55204c20957c"
      },
      "execution_count": null,
      "outputs": [
        {
          "output_type": "stream",
          "name": "stdout",
          "text": [
            "Input text: أشعر بالإحباط الشديد ولا أرى أي أمل في المستقبل\n",
            "Prediction: Potential Suicide post \n",
            "\n",
            "Input text: أنا سعيد جدا اليوم وأحب حياتي\n",
            "Prediction: Not Suicide post\n",
            "\n",
            "Input text: لا أستطيع تحمل هذا الألم أكثر\n",
            "Prediction: Potential Suicide post \n",
            "\n",
            "Input text: اليوم كان يوما جميلا وأستمتع به\n",
            "Prediction: Not Suicide post\n",
            "\n",
            "Input text: أفكر في إنهاء حياتي لأنني لا أستطيع المواصلة\n",
            "Prediction: Potential Suicide post \n",
            "\n",
            "Input text: استمتعت بلقاء أصدقائي والحديث معهم\n",
            "Prediction: Not Suicide post\n",
            "\n",
            "Input text: أنا مكتئب ولا أستطيع التحمل\n",
            "Prediction: Potential Suicide post \n",
            "\n",
            "Input text: أحب عائلتي وأصدقائي وهم يدعمونني دائما\n",
            "Prediction: Not Suicide post\n",
            "\n",
            "Input text: هذا الألم لا يطاق وأريد التخلص منه\n",
            "Prediction: Potential Suicide post \n",
            "\n",
            "Input text: لقد أنجزت الكثير من الأشياء الجيدة هذا الأسبوع\n",
            "Prediction: Not Suicide post\n",
            "\n",
            "Input text: لا أستطيع العثور على أي سبب للاستمرار\n",
            "Prediction: Not Suicide post\n",
            "\n",
            "Input text: أخطط لعطلة رائعة مع عائلتي\n",
            "Prediction: Not Suicide post\n",
            "\n",
            "Input text: كل شيء يبدو مظلما ولا أستطيع رؤية النور في نهاية النفق\n",
            "Prediction: Potential Suicide post \n",
            "\n",
            "Input text: أنا ممتن لكل الأشياء الجيدة في حياتي\n",
            "Prediction: Not Suicide post\n",
            "\n"
          ]
        }
      ]
    },
    {
      "cell_type": "code",
      "source": [],
      "metadata": {
        "id": "sLLuysRHKkEN"
      },
      "execution_count": null,
      "outputs": []
    }
  ],
  "metadata": {
    "accelerator": "GPU",
    "colab": {
      "gpuType": "T4",
      "provenance": []
    },
    "kernelspec": {
      "display_name": "Python 3",
      "name": "python3"
    },
    "language_info": {
      "name": "python"
    }
  },
  "nbformat": 4,
  "nbformat_minor": 0
}